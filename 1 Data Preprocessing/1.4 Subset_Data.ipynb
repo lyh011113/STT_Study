{
 "cells": [
  {
   "cell_type": "markdown",
   "metadata": {},
   "source": [
    "# 데이터 리스트 분할: 학습 / 개발 / 평가 데이터셋\n",
    "\n",
    "이 Notebook은 전체 데이터 리스트를 읽어 아래와 같이 분할합니다:\n",
    "\n",
    "- **BASIC5000_0001 ~ BASIC5000_0250**: 평가 데이터\n",
    "- **BASIC5000_0251 ~ BASIC5000_0500**: 개발 데이터\n",
    "- **BASIC5000_0501 ~ BASIC5000_1500**: 학습 데이터(소)\n",
    "- **BASIC5000_0501 ~ BASIC5000_5000**: 학습 데이터(대)"
   ]
  },
  {
   "cell_type": "code",
   "execution_count": 1,
   "metadata": {},
   "outputs": [],
   "source": [
    "# os 모듈 임포트\n",
    "import os"
   ]
  },
  {
   "cell_type": "markdown",
   "metadata": {},
   "source": [
    "## 디렉토리 설정 및 생성\n",
    "\n",
    "전체 데이터 리스트가 기록된 디렉토리와, 분할된 데이터셋의 출력 디렉토리를 설정합니다."
   ]
  },
  {
   "cell_type": "code",
   "execution_count": 2,
   "metadata": {},
   "outputs": [],
   "source": [
    "# 전체 데이터 리스트가 기록된 디렉토리\n",
    "all_dir = '../data/label/all'\n",
    "\n",
    "# 평가 데이터 리스트의 출력 디렉토리\n",
    "out_eval_dir = '../data/label/test'\n",
    "\n",
    "# 개발 데이터 리스트의 출력 디렉토리Z\n",
    "out_dev_dir = '../data/label/dev'\n",
    "\n",
    "# 학습 데이터(소) 리스트의 출력 디렉토리\n",
    "out_train_small_dir = '../data/label/train_small'\n",
    "\n",
    "# 학습 데이터(대) 리스트의 출력 디렉토리\n",
    "out_train_large_dir = '../data/label/train_large'\n",
    "\n",
    "# 각 출력 디렉토리가 존재하지 않으면 생성\n",
    "for out_dir in [out_eval_dir, out_dev_dir, out_train_small_dir, out_train_large_dir]:\n",
    "    os.makedirs(out_dir, exist_ok=True)"
   ]
  },
  {
   "cell_type": "markdown",
   "metadata": {},
   "source": [
    "## 데이터 리스트 분할\n",
    "\n",
    "전체 데이터 리스트 파일(`wav.scp`, `text_char`, `text_kana`, `text_phone`)을 읽어 각 데이터셋에 맞게 분할하여 출력 디렉토리에 기록합니다."
   ]
  },
  {
   "cell_type": "code",
   "execution_count": 3,
   "metadata": {},
   "outputs": [],
   "source": [
    "# 분할할 파일 목록\n",
    "filenames = ['wav.scp', 'text_char', 'text_kana', 'text_phone']\n",
    "\n",
    "# 각 파일에 대해 분할 작업 수행\n",
    "for filename in filenames:\n",
    "    # 전체 데이터를 읽기 모드로, 평가/개발/학습 데이터 리스트를 쓰기 모드로 열기\n",
    "    with open(os.path.join(all_dir, filename), mode='r') as all_file, \\\n",
    "         open(os.path.join(out_eval_dir, filename), mode='w') as eval_file, \\\n",
    "         open(os.path.join(out_dev_dir, filename), mode='w') as dev_file, \\\n",
    "         open(os.path.join(out_train_small_dir, filename), mode='w') as train_small_file, \\\n",
    "         open(os.path.join(out_train_large_dir, filename), mode='w') as train_large_file:\n",
    "        \n",
    "        # 전체 데이터 파일의 각 줄에 대해\n",
    "        for i, line in enumerate(all_file):\n",
    "            if i < 250:\n",
    "                # 1 ~ 250: 평가 데이터\n",
    "                eval_file.write(line)\n",
    "            elif i < 500:\n",
    "                # 251 ~ 500: 개발 데이터\n",
    "                dev_file.write(line)\n",
    "            else:\n",
    "                # 501 ~ 5000: 학습 데이터(대)\n",
    "                train_large_file.write(line)\n",
    "                if i < 1500:\n",
    "                    # 501 ~ 1500: 학습 데이터(소)\n",
    "                    train_small_file.write(line)"
   ]
  },
  {
   "cell_type": "code",
   "execution_count": null,
   "metadata": {},
   "outputs": [],
   "source": []
  }
 ],
 "metadata": {
  "kernelspec": {
   "display_name": "main",
   "language": "python",
   "name": "python3"
  },
  "language_info": {
   "codemirror_mode": {
    "name": "ipython",
    "version": 3
   },
   "file_extension": ".py",
   "mimetype": "text/x-python",
   "name": "python",
   "nbconvert_exporter": "python",
   "pygments_lexer": "ipython3",
   "version": "3.10.14"
  }
 },
 "nbformat": 4,
 "nbformat_minor": 2
}
