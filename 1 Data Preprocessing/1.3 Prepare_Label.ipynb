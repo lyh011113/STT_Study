{
 "cells": [
  {
   "cell_type": "markdown",
   "metadata": {},
   "source": [
    "# 라벨 데이터 생성 및 파일 작성\n",
    "\n",
    "라벨 데이터를 읽어, 문자(한자 혼용 문자) 단위, 가나 단위, 음소 단위로 정의된 라벨 파일을 생성합니다."
   ]
  },
  {
   "cell_type": "code",
   "execution_count": 1,
   "id": "d26a160c",
   "metadata": {},
   "outputs": [],
   "source": [
    "import yaml  # YAML 파일을 읽기 위한 모듈\n",
    "import os    # 파일 및 디렉토리 조작을 위한 모듈"
   ]
  },
  {
   "cell_type": "code",
   "execution_count": 2,
   "id": "23dea745",
   "metadata": {},
   "outputs": [],
   "source": [
    "# 원본 YAML 파일 경로\n",
    "original_label = '../data/original/jsut-label-master/text_kana/basic5000.yaml'\n",
    "\n",
    "# 가공된 라벨을 저장할 디렉토리 경로\n",
    "out_label_dir = '../data/label/all'\n",
    "\n",
    "# 출력 디렉토리가 없으면 생성\n",
    "os.makedirs(out_label_dir, exist_ok=True)"
   ]
  },
  {
   "cell_type": "code",
   "execution_count": 3,
   "id": "2b8a60a2",
   "metadata": {},
   "outputs": [],
   "source": [
    "# YAML 데이터 읽기\n",
    "with open(original_label, mode='r') as yamlfile:\n",
    "    label_info = yaml.safe_load(yamlfile)"
   ]
  },
  {
   "cell_type": "code",
   "execution_count": 4,
   "id": "9cb07829",
   "metadata": {},
   "outputs": [],
   "source": [
    "# 파일 열기와 반복문을 하나의 셀에서 처리\n",
    "with open(os.path.join(out_label_dir, 'text_char'), mode='w') as label_char, \\\n",
    "     open(os.path.join(out_label_dir, 'text_kana'), mode='w') as label_kana, \\\n",
    "     open(os.path.join(out_label_dir, 'text_phone'), mode='w') as label_phone:\n",
    "    \n",
    "    for i in range(5000):\n",
    "        # 발화 ID 생성\n",
    "        filename = 'BASIC5000_%04d' % (i+1)\n",
    "        \n",
    "        # 발화 ID가 label_info에 없으면 오류 메시지 출력 후 종료\n",
    "        if filename not in label_info:\n",
    "            print('Error: %s is not in %s' % (filename, original_label))\n",
    "            exit()\n",
    "        \n",
    "        # 문자 라벨 정보 가져오기\n",
    "        chars = label_info[filename]['text_level2']\n",
    "        # 일본어 쉼표(、) 및 마침표(。) 제거\n",
    "        chars = chars.replace('、', '').replace('。', '')\n",
    "        \n",
    "        # 가나 라벨 정보 가져오기\n",
    "        kanas = label_info[filename]['kana_level3']\n",
    "        # 일본어 쉼표(、) 제거\n",
    "        kanas = kanas.replace('、', '')\n",
    "        \n",
    "        # 음소 라벨 정보 가져오기\n",
    "        phones = label_info[filename]['phone_level3']\n",
    "        \n",
    "        # 각 라벨 파일에 결과 기록\n",
    "        label_char.write('%s %s\\n' % (filename, ' '.join(chars)))\n",
    "        label_kana.write('%s %s\\n' % (filename, ' '.join(kanas)))\n",
    "        label_phone.write('%s %s\\n' % (filename, phones.replace('-', ' ')))"
   ]
  },
  {
   "cell_type": "markdown",
   "id": "37f0d2e2",
   "metadata": {},
   "source": [
    "### 요약\n",
    "\n",
    "1. **모듈 임포트 및 경로 설정**: `yaml`과 `os` 모듈을 이용해 YAML 파일을 읽고, 출력 디렉토리를 생성합니다.\n",
    "2. **YAML 파일 읽기**: 지정된 경로에서 YAML 파일을 읽어 `label_info`에 저장합니다.\n",
    "3. **파일 작성**: 하나의 `with open` 구문 내부에서 5000개의 발화 데이터를 순회하며,\n",
    "   - 문자 라벨은 불필요한 기호를 제거 후 각 글자 사이에 공백을 추가하여 저장\n",
    "   - 가나 라벨은 불필요한 기호를 제거 후 각 글자 사이에 공백을 추가하여 저장\n",
    "   - 음소 라벨은 '-'를 공백으로 대체하여 저장\n",
    "   하는 방식으로 결과 파일을 생성합니다."
   ]
  }
 ],
 "metadata": {
  "kernelspec": {
   "display_name": "main",
   "language": "python",
   "name": "python3"
  },
  "language_info": {
   "codemirror_mode": {
    "name": "ipython",
    "version": 3
   },
   "file_extension": ".py",
   "mimetype": "text/x-python",
   "name": "python",
   "nbconvert_exporter": "python",
   "pygments_lexer": "ipython3",
   "version": "3.10.14"
  }
 },
 "nbformat": 4,
 "nbformat_minor": 5
}
