{
 "cells": [
  {
   "cell_type": "markdown",
   "metadata": {},
   "source": [
    "# 라벨 데이터 생성 및 파일 작성\n",
    "\n",
    "이 Notebook은 다운로드한 라벨 데이터를 읽어, 문자(한자 혼용 문자) 단위, 가나 단위, 음소 단위로 정의된 라벨 파일을 생성합니다."
   ]
  },
  {
   "cell_type": "code",
   "execution_count": 1,
   "metadata": {},
   "outputs": [],
   "source": [
    "# -*- coding: utf-8 -*-\n",
    "\n",
    "## 다운로드한 라벨 데이터를 읽어 문자(한자 혼용 문자), 가나, 음소 단위의 라벨 파일을 생성하는 코드\n",
    "\n",
    "# yaml 데이터를 읽기 위한 모듈 임포트\n",
    "import yaml\n",
    "\n",
    "# os 모듈 임포트\n",
    "import os\n",
    "\n",
    "## 메인 함수\n",
    "if __name__ == \"__main__\":\n",
    "    \n",
    "    # 다운로드한 라벨 데이터 (yaml 형식)의 경로\n",
    "    original_label = '../data/original/jsut-label-master/text_kana/basic5000.yaml'\n",
    "\n",
    "    # 라벨 리스트를 저장할 디렉토리 경로\n",
    "    out_label_dir = '../data/label/all'\n",
    "\n",
    "    # 출력 디렉토리가 존재하지 않으면 생성\n",
    "    os.makedirs(out_label_dir, exist_ok=True)\n",
    "\n",
    "    # 라벨 데이터 읽기\n",
    "    with open(original_label, mode='r') as yamlfile:\n",
    "        label_info = yaml.safe_load(yamlfile)\n",
    "\n",
    "    # 문자, 가나, 음소 라벨 파일을 쓰기 모드로 열기\n",
    "    with open(os.path.join(out_label_dir, 'text_char'), mode='w') as label_char, \\\n",
    "         open(os.path.join(out_label_dir, 'text_kana'), mode='w') as label_kana, \\\n",
    "         open(os.path.join(out_label_dir, 'text_phone'), mode='w') as label_phone:\n",
    "        \n",
    "        # BASIC5000_0001 부터 BASIC5000_5000 까지 반복 처리\n",
    "        for i in range(5000):\n",
    "            # 발화 ID 생성\n",
    "            filename = 'BASIC5000_%04d' % (i+1)\n",
    "            \n",
    "            # 발화 ID가 label_info에 없으면 에러 출력 후 종료\n",
    "            if filename not in label_info:\n",
    "                print('Error: %s is not in %s' % (filename, original_label))\n",
    "                exit()\n",
    "\n",
    "            # 문자 라벨 정보 가져오기\n",
    "            chars = label_info[filename]['text_level2']\n",
    "            # '、'와 '。' 제거\n",
    "            chars = chars.replace('、', '')\n",
    "            chars = chars.replace('。', '')\n",
    "\n",
    "            # 가나 라벨 정보 가져오기\n",
    "            kanas = label_info[filename]['kana_level3']\n",
    "            # '、' 제거\n",
    "            kanas = kanas.replace('、', '')\n",
    "\n",
    "            # 음소 라벨 정보 가져오기\n",
    "            phones = label_info[filename]['phone_level3']\n",
    "\n",
    "            # 문자 라벨 파일에, 각 글자 사이에 공백을 넣어 기록 (' '.join(list)는 리스트의 각 요소 사이에 공백을 넣어 한 문장으로 만듦)\n",
    "            label_char.write('%s %s\\n' % (filename, ' '.join(chars)))\n",
    "\n",
    "            # 가나 라벨 파일에, 각 글자 사이에 공백을 넣어 기록\n",
    "            label_kana.write('%s %s\\n' % (filename, ' '.join(kanas)))\n",
    "\n",
    "            # 음소 라벨은 '-'를 공백으로 대체하여 기록\n",
    "            label_phone.write('%s %s\\n' % (filename, phones.replace('-', ' ')))\n"
   ]
  }
 ],
 "metadata": {
  "kernelspec": {
   "display_name": "main",
   "language": "python",
   "name": "python3"
  },
  "language_info": {
   "codemirror_mode": {
    "name": "ipython",
    "version": 3
   },
   "file_extension": ".py",
   "mimetype": "text/x-python",
   "name": "python",
   "nbconvert_exporter": "python",
   "pygments_lexer": "ipython3",
   "version": "3.10.14"
  }
 },
 "nbformat": 4,
 "nbformat_minor": 2
}
