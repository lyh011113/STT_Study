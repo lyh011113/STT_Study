{
 "cells": [
  {
   "cell_type": "markdown",
   "metadata": {},
   "source": [
    "# JSUT 음성 및 라벨 데이터 다운로드\n",
    "JSUT 코퍼스의 음성 데이터와 라벨 데이터를 다운로드 및 압축 해제하는 코드로 구성\n",
    "\n",
    "JUST 코퍼스 = 일본어 음성 데이터 (음성 데이터 + 라벨 데이터)\n",
    "\n",
    "관련 논문 링크 https://arxiv.org/abs/1711.00354"
   ]
  },
  {
   "cell_type": "code",
   "execution_count": 1,
   "metadata": {},
   "outputs": [],
   "source": [
    "from urllib.request import urlretrieve\n",
    "import zipfile\n",
    "import os"
   ]
  },
  {
   "cell_type": "code",
   "execution_count": 2,
   "metadata": {},
   "outputs": [],
   "source": [
    "# 데이터 저장 위치를 정의하고 디렉토리를 생성\n",
    "data_dir = '../data/original'\n",
    "os.makedirs(data_dir, exist_ok=True)"
   ]
  },
  {
   "cell_type": "code",
   "execution_count": 4,
   "metadata": {},
   "outputs": [
    {
     "name": "stdout",
     "output_type": "stream",
     "text": [
      "download jsut-data start\n",
      "download jsut-data finished\n"
     ]
    }
   ],
   "source": [
    "# JSUT 음성 파일 (zip 형식)을 다운로드 (시간 오래 걸림)\n",
    "data_archive = os.path.join(data_dir, 'jsut-data.zip')\n",
    "print('download jsut-data start')\n",
    "urlretrieve('http://ss-takashi.sakura.ne.jp/corpus/jsut_ver1.1.zip', data_archive)\n",
    "print('download jsut-data finished')"
   ]
  },
  {
   "cell_type": "code",
   "execution_count": 5,
   "metadata": {},
   "outputs": [
    {
     "name": "stdout",
     "output_type": "stream",
     "text": [
      "extract jsut-data start\n",
      "extract jsut-data finished\n"
     ]
    }
   ],
   "source": [
    "# 다운로드한 음성 데이터를 압축 해제한 후 zip 파일을 삭제합니다.\n",
    "print('extract jsut-data start')\n",
    "with zipfile.ZipFile(data_archive) as data_zip:\n",
    "    data_zip.extractall(data_dir)\n",
    "print('extract jsut-data finished')\n",
    "os.remove(data_archive)"
   ]
  },
  {
   "cell_type": "code",
   "execution_count": 3,
   "metadata": {},
   "outputs": [
    {
     "name": "stdout",
     "output_type": "stream",
     "text": [
      "download jsut-label start\n",
      "download jsut-label finished\n"
     ]
    }
   ],
   "source": [
    "# JSUT 코퍼스의 라벨 데이터를 다운로드합니다.\n",
    "label_archive = os.path.join(data_dir, 'jsut-label.zip')\n",
    "print('download jsut-label start')\n",
    "urlretrieve('https://github.com/sarulab-speech/jsut-label/archive/master.zip', label_archive)\n",
    "print('download jsut-label finished')"
   ]
  },
  {
   "cell_type": "code",
   "execution_count": 4,
   "metadata": {},
   "outputs": [
    {
     "name": "stdout",
     "output_type": "stream",
     "text": [
      "extract jsut-label start\n",
      "extract jsut-label finished\n"
     ]
    }
   ],
   "source": [
    "# 다운로드한 라벨 데이터를 압축 해제한 후 zip 파일을 삭제합니다.\n",
    "print('extract jsut-label start')\n",
    "with zipfile.ZipFile(label_archive) as label_zip:\n",
    "    label_zip.extractall(data_dir)\n",
    "print('extract jsut-label finished')\n",
    "os.remove(label_archive)"
   ]
  }
 ],
 "metadata": {
  "kernelspec": {
   "display_name": "main",
   "language": "python",
   "name": "python3"
  },
  "language_info": {
   "codemirror_mode": {
    "name": "ipython",
    "version": 3
   },
   "file_extension": ".py",
   "mimetype": "text/x-python",
   "name": "python",
   "nbconvert_exporter": "python",
   "pygments_lexer": "ipython3",
   "version": "3.10.14"
  }
 },
 "nbformat": 4,
 "nbformat_minor": 2
}
